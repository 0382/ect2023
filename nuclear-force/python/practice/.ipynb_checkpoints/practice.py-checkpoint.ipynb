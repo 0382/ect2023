{
 "cells": [
  {
   "cell_type": "code",
   "execution_count": 134,
   "id": "b2ab16fd",
   "metadata": {},
   "outputs": [],
   "source": [
    "import numpy as np\n",
    "import nn_studio as nn_studio\n",
    "import chiral_potential as chiral_potential\n",
    "import matplotlib.pyplot as plt\n",
    "import granada_phases as granada\n",
    "import auxiliary as aux\n",
    "import lec_values as lec_values\n",
    "\n",
    "nn = nn_studio.nn_studio(jmin=0,jmax=1,tzmin=0,tzmax=0,Np=30)\n",
    "_,selected_channel = nn.lookup_channel_idx(l=0,ll=2,s=1,j=1)"
   ]
  },
  {
   "cell_type": "code",
   "execution_count": 135,
   "id": "2f0aaedf",
   "metadata": {
    "scrolled": true
   },
   "outputs": [
    {
     "data": {
      "text/plain": [
       "[[{'l': 0, 'll': 0, 's': 1, 'j': 1, 't': 0, 'tz': 0, 'pi': 1, 'chn_idx': 4},\n",
       "  {'l': 0, 'll': 2, 's': 1, 'j': 1, 't': 0, 'tz': 0, 'pi': 1, 'chn_idx': 4},\n",
       "  {'l': 2, 'll': 0, 's': 1, 'j': 1, 't': 0, 'tz': 0, 'pi': 1, 'chn_idx': 4},\n",
       "  {'l': 2, 'll': 2, 's': 1, 'j': 1, 't': 0, 'tz': 0, 'pi': 1, 'chn_idx': 4}]]"
      ]
     },
     "execution_count": 135,
     "metadata": {},
     "output_type": "execute_result"
    }
   ],
   "source": [
    "selected_channel"
   ]
  },
  {
   "cell_type": "code",
   "execution_count": 146,
   "id": "93d69ea6",
   "metadata": {},
   "outputs": [],
   "source": [
    "potential_nlo = chiral_potential.two_nucleon_potential('NLO',Lambda=500.0)\n",
    "nn.V = potential_nlo\n",
    "nn.lecs = lec_values.nlo_lecs\n",
    "_, Vmat = nn.setup_Vmtx(selected_channel[0])"
   ]
  },
  {
   "cell_type": "code",
   "execution_count": 147,
   "id": "37b41333",
   "metadata": {},
   "outputs": [],
   "source": [
    "import constants\n",
    "mu = constants.Mnuc / 2\n",
    "Tmat = np.diag(nn.pmesh**2 / (2*mu))\n",
    "Vss, Vsd, Vds, Vdd = Vmat[0], Vmat[1], Vmat[2], Vmat[3]"
   ]
  },
  {
   "cell_type": "code",
   "execution_count": 148,
   "id": "9052eab7",
   "metadata": {},
   "outputs": [],
   "source": [
    "kmesh = np.sqrt(nn.wmesh) * nn.pmesh\n",
    "Hss = Tmat + np.diag(kmesh) @ Vss @ np.diag(kmesh)\n",
    "Hsd = Tmat + np.diag(kmesh) @ Vsd @ np.diag(kmesh)\n",
    "Hds = Tmat + np.diag(kmesh) @ Vds @ np.diag(kmesh)\n",
    "Hdd = Tmat + np.diag(kmesh) @ Vdd @ np.diag(kmesh)"
   ]
  },
  {
   "cell_type": "code",
   "execution_count": 149,
   "id": "ff4565d4",
   "metadata": {},
   "outputs": [],
   "source": [
    "H = np.vstack([np.hstack([Hss, Hsd]), np.hstack([Hds, Hdd])])"
   ]
  },
  {
   "cell_type": "code",
   "execution_count": 151,
   "id": "ea466053",
   "metadata": {},
   "outputs": [],
   "source": [
    "vals, vecs = np.linalg.eigh(H)"
   ]
  },
  {
   "cell_type": "code",
   "execution_count": 163,
   "id": "a0a8497c",
   "metadata": {},
   "outputs": [
    {
     "data": {
      "text/plain": [
       "2.3276624668561876"
      ]
     },
     "execution_count": 163,
     "metadata": {},
     "output_type": "execute_result"
    }
   ],
   "source": [
    "np.linalg.norm(vecs[0:30, 0]), np.linalg.norm(vecs[30:60, 0])"
   ]
  },
  {
   "cell_type": "code",
   "execution_count": null,
   "id": "0f729d3b",
   "metadata": {},
   "outputs": [],
   "source": []
  }
 ],
 "metadata": {
  "kernelspec": {
   "display_name": "Python 3 (ipykernel)",
   "language": "python",
   "name": "python3"
  },
  "language_info": {
   "codemirror_mode": {
    "name": "ipython",
    "version": 3
   },
   "file_extension": ".py",
   "mimetype": "text/x-python",
   "name": "python",
   "nbconvert_exporter": "python",
   "pygments_lexer": "ipython3",
   "version": "3.10.11"
  }
 },
 "nbformat": 4,
 "nbformat_minor": 5
}
