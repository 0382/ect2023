{
 "cells": [
  {
   "cell_type": "code",
   "execution_count": 1,
   "id": "b270afd2",
   "metadata": {},
   "outputs": [],
   "source": [
    "import numpy as np\n",
    "import nn_studio as nn_studio\n",
    "import chiral_potential as chiral_potential\n",
    "import matplotlib.pyplot as plt\n",
    "import granada_phases as granada\n",
    "import auxiliary as aux\n",
    "import lec_values as lec_values\n",
    "\n",
    "Np = 100\n",
    "nn = nn_studio.nn_studio(jmin=0,jmax=1,tzmin=0,tzmax=0,Np=Np)\n",
    "_,selected_channel = nn.lookup_channel_idx(l=0,ll=2,s=1,j=1)"
   ]
  },
  {
   "cell_type": "code",
   "execution_count": 2,
   "id": "1d609ffa",
   "metadata": {
    "scrolled": true
   },
   "outputs": [
    {
     "data": {
      "text/plain": [
       "[[{'l': 0, 'll': 0, 's': 1, 'j': 1, 't': 0, 'tz': 0, 'pi': 1, 'chn_idx': 4},\n",
       "  {'l': 0, 'll': 2, 's': 1, 'j': 1, 't': 0, 'tz': 0, 'pi': 1, 'chn_idx': 4},\n",
       "  {'l': 2, 'll': 0, 's': 1, 'j': 1, 't': 0, 'tz': 0, 'pi': 1, 'chn_idx': 4},\n",
       "  {'l': 2, 'll': 2, 's': 1, 'j': 1, 't': 0, 'tz': 0, 'pi': 1, 'chn_idx': 4}]]"
      ]
     },
     "execution_count": 2,
     "metadata": {},
     "output_type": "execute_result"
    }
   ],
   "source": [
    "selected_channel"
   ]
  },
  {
   "cell_type": "code",
   "execution_count": 3,
   "id": "df275b19",
   "metadata": {},
   "outputs": [],
   "source": [
    "potential_nlo = chiral_potential.two_nucleon_potential('NLO',Lambda=500.0)\n",
    "nn.V = potential_nlo\n",
    "nn.lecs = lec_values.nlo_lecs\n",
    "_, Vmat = nn.setup_Vmtx(selected_channel[0])"
   ]
  },
  {
   "cell_type": "code",
   "execution_count": 4,
   "id": "003c9ead",
   "metadata": {},
   "outputs": [],
   "source": [
    "import constants\n",
    "mu = constants.Mnuc / 2\n",
    "Tmat = np.diag(nn.pmesh**2 / (2*mu))\n",
    "Vss, Vsd, Vds, Vdd = Vmat[0], Vmat[1], Vmat[2], Vmat[3]"
   ]
  },
  {
   "cell_type": "code",
   "execution_count": 5,
   "id": "520bf782",
   "metadata": {},
   "outputs": [],
   "source": [
    "kmesh = np.diag(np.sqrt(nn.wmesh) * nn.pmesh)\n",
    "Hss = Tmat + kmesh @ Vss @ kmesh\n",
    "Hsd = kmesh @ Vsd @ kmesh\n",
    "Hds = kmesh @ Vds @ kmesh\n",
    "Hdd = Tmat + kmesh @ Vdd @ kmesh"
   ]
  },
  {
   "cell_type": "code",
   "execution_count": 6,
   "id": "6f814940",
   "metadata": {},
   "outputs": [],
   "source": [
    "H = np.vstack([np.hstack([Hss, Hsd]), np.hstack([Hds, Hdd])])"
   ]
  },
  {
   "cell_type": "code",
   "execution_count": 7,
   "id": "eb8cc2eb",
   "metadata": {},
   "outputs": [
    {
     "name": "stdout",
     "output_type": "stream",
     "text": [
      "deuteron bound state energy: -1.968013187945521MeV\n"
     ]
    }
   ],
   "source": [
    "vals, vecs = np.linalg.eigh(H)\n",
    "print(f'deuteron bound state energy: {vals[0]}MeV')"
   ]
  },
  {
   "cell_type": "code",
   "execution_count": 8,
   "id": "26ba2d4e",
   "metadata": {},
   "outputs": [
    {
     "data": {
      "text/plain": [
       "(0.9674668610280691, 0.032533138971931184)"
      ]
     },
     "execution_count": 8,
     "metadata": {},
     "output_type": "execute_result"
    }
   ],
   "source": [
    "np.linalg.norm(vecs[0:Np, 0])**2, np.linalg.norm(vecs[Np:2*Np, 0])**2"
   ]
  },
  {
   "cell_type": "code",
   "execution_count": null,
   "id": "e57de144",
   "metadata": {},
   "outputs": [],
   "source": []
  }
 ],
 "metadata": {
  "kernelspec": {
   "display_name": "Python 3 (ipykernel)",
   "language": "python",
   "name": "python3"
  },
  "language_info": {
   "codemirror_mode": {
    "name": "ipython",
    "version": 3
   },
   "file_extension": ".py",
   "mimetype": "text/x-python",
   "name": "python",
   "nbconvert_exporter": "python",
   "pygments_lexer": "ipython3",
   "version": "3.10.11"
  }
 },
 "nbformat": 4,
 "nbformat_minor": 5
}
